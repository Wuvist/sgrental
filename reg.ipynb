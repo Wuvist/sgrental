{
 "cells": [
  {
   "cell_type": "code",
   "execution_count": 2,
   "metadata": {},
   "outputs": [],
   "source": [
    "import csv\n",
    "import pandas as pd"
   ]
  },
  {
   "cell_type": "code",
   "execution_count": 21,
   "metadata": {},
   "outputs": [],
   "source": [
    "df = pd.read_csv(\"sg_foreign_workers.csv\")"
   ]
  },
  {
   "cell_type": "code",
   "execution_count": 22,
   "metadata": {},
   "outputs": [],
   "source": [
    "df2 = df.transpose().iloc[1:,:]\n",
    "df2.columns = ['EP', 'SP', 'WP', 'WP_fdw', 'WP_c', 'WP_o', 'Total']"
   ]
  },
  {
   "cell_type": "code",
   "execution_count": 23,
   "metadata": {},
   "outputs": [
    {
     "data": {
      "text/html": [
       "<div>\n",
       "<style scoped>\n",
       "    .dataframe tbody tr th:only-of-type {\n",
       "        vertical-align: middle;\n",
       "    }\n",
       "\n",
       "    .dataframe tbody tr th {\n",
       "        vertical-align: top;\n",
       "    }\n",
       "\n",
       "    .dataframe thead th {\n",
       "        text-align: right;\n",
       "    }\n",
       "</style>\n",
       "<table border=\"1\" class=\"dataframe\">\n",
       "  <thead>\n",
       "    <tr style=\"text-align: right;\">\n",
       "      <th></th>\n",
       "      <th>EP</th>\n",
       "      <th>SP</th>\n",
       "      <th>WP</th>\n",
       "      <th>WP_fdw</th>\n",
       "      <th>WP_c</th>\n",
       "      <th>WP_o</th>\n",
       "      <th>Total</th>\n",
       "    </tr>\n",
       "  </thead>\n",
       "  <tbody>\n",
       "    <tr>\n",
       "      <th>Dec 2009</th>\n",
       "      <td>114300</td>\n",
       "      <td>82800</td>\n",
       "      <td>851200</td>\n",
       "      <td>196000</td>\n",
       "      <td>245700</td>\n",
       "      <td>5200</td>\n",
       "      <td>1053500</td>\n",
       "    </tr>\n",
       "    <tr>\n",
       "      <th>Dec 2010</th>\n",
       "      <td>143300</td>\n",
       "      <td>98700</td>\n",
       "      <td>865200</td>\n",
       "      <td>201400</td>\n",
       "      <td>248000</td>\n",
       "      <td>6000</td>\n",
       "      <td>1113200</td>\n",
       "    </tr>\n",
       "    <tr>\n",
       "      <th>Dec 2011</th>\n",
       "      <td>175400</td>\n",
       "      <td>113900</td>\n",
       "      <td>901000</td>\n",
       "      <td>206300</td>\n",
       "      <td>264400</td>\n",
       "      <td>7600</td>\n",
       "      <td>1197900</td>\n",
       "    </tr>\n",
       "    <tr>\n",
       "      <th>Dec 2012</th>\n",
       "      <td>173800</td>\n",
       "      <td>142400</td>\n",
       "      <td>942800</td>\n",
       "      <td>209600</td>\n",
       "      <td>293300</td>\n",
       "      <td>9300</td>\n",
       "      <td>1268300</td>\n",
       "    </tr>\n",
       "    <tr>\n",
       "      <th>Dec 2013</th>\n",
       "      <td>175100</td>\n",
       "      <td>160900</td>\n",
       "      <td>974400</td>\n",
       "      <td>214500</td>\n",
       "      <td>318900</td>\n",
       "      <td>11300</td>\n",
       "      <td>1321600</td>\n",
       "    </tr>\n",
       "    <tr>\n",
       "      <th>Dec 2014</th>\n",
       "      <td>178900</td>\n",
       "      <td>170100</td>\n",
       "      <td>991300</td>\n",
       "      <td>222500</td>\n",
       "      <td>322700</td>\n",
       "      <td>15400</td>\n",
       "      <td>1355700</td>\n",
       "    </tr>\n",
       "    <tr>\n",
       "      <th>Jun 2015</th>\n",
       "      <td>180800</td>\n",
       "      <td>173800</td>\n",
       "      <td>993900</td>\n",
       "      <td>227100</td>\n",
       "      <td>322400</td>\n",
       "      <td>19700</td>\n",
       "      <td>1368200</td>\n",
       "    </tr>\n",
       "    <tr>\n",
       "      <th>Dec 2015</th>\n",
       "      <td>187900</td>\n",
       "      <td>178600</td>\n",
       "      <td>997100</td>\n",
       "      <td>231500</td>\n",
       "      <td>326000</td>\n",
       "      <td>23600</td>\n",
       "      <td>1387300</td>\n",
       "    </tr>\n",
       "    <tr>\n",
       "      <th>Jun 2016</th>\n",
       "      <td>189600</td>\n",
       "      <td>179400</td>\n",
       "      <td>1009300</td>\n",
       "      <td>237100</td>\n",
       "      <td>326700</td>\n",
       "      <td>26300</td>\n",
       "      <td>1404700</td>\n",
       "    </tr>\n",
       "    <tr>\n",
       "      <th>Dec 2016</th>\n",
       "      <td>192300</td>\n",
       "      <td>179700</td>\n",
       "      <td>992700</td>\n",
       "      <td>239700</td>\n",
       "      <td>315500</td>\n",
       "      <td>28300</td>\n",
       "      <td>1393000</td>\n",
       "    </tr>\n",
       "    <tr>\n",
       "      <th>Jun 2017</th>\n",
       "      <td>189900</td>\n",
       "      <td>179400</td>\n",
       "      <td>975800</td>\n",
       "      <td>243000</td>\n",
       "      <td>296700</td>\n",
       "      <td>29800</td>\n",
       "      <td>1374900</td>\n",
       "    </tr>\n",
       "    <tr>\n",
       "      <th>Dec 2017</th>\n",
       "      <td>187700</td>\n",
       "      <td>184400</td>\n",
       "      <td>965200</td>\n",
       "      <td>246800</td>\n",
       "      <td>284900</td>\n",
       "      <td>30700</td>\n",
       "      <td>1368000</td>\n",
       "    </tr>\n",
       "    <tr>\n",
       "      <th>Dec 2018</th>\n",
       "      <td>185800</td>\n",
       "      <td>195500</td>\n",
       "      <td>972600</td>\n",
       "      <td>253800</td>\n",
       "      <td>280500</td>\n",
       "      <td>32100</td>\n",
       "      <td>1386000</td>\n",
       "    </tr>\n",
       "    <tr>\n",
       "      <th>Dec 2019</th>\n",
       "      <td>193700</td>\n",
       "      <td>200000</td>\n",
       "      <td>999000</td>\n",
       "      <td>261800</td>\n",
       "      <td>370100</td>\n",
       "      <td>34700</td>\n",
       "      <td>1427400</td>\n",
       "    </tr>\n",
       "    <tr>\n",
       "      <th>Dec 2020</th>\n",
       "      <td>177100</td>\n",
       "      <td>174000</td>\n",
       "      <td>848200</td>\n",
       "      <td>247400</td>\n",
       "      <td>311100</td>\n",
       "      <td>32200</td>\n",
       "      <td>1231500</td>\n",
       "    </tr>\n",
       "    <tr>\n",
       "      <th>Dec 2021</th>\n",
       "      <td>161700</td>\n",
       "      <td>161800</td>\n",
       "      <td>849700</td>\n",
       "      <td>246300</td>\n",
       "      <td>318500</td>\n",
       "      <td>27200</td>\n",
       "      <td>1200400</td>\n",
       "    </tr>\n",
       "    <tr>\n",
       "      <th>Dec 2022</th>\n",
       "      <td>187300</td>\n",
       "      <td>177900</td>\n",
       "      <td>1033500</td>\n",
       "      <td>268500</td>\n",
       "      <td>415000</td>\n",
       "      <td>25400</td>\n",
       "      <td>1424200</td>\n",
       "    </tr>\n",
       "    <tr>\n",
       "      <th>Dec 2023</th>\n",
       "      <td>205400</td>\n",
       "      <td>178500</td>\n",
       "      <td>1113000</td>\n",
       "      <td>286300</td>\n",
       "      <td>441100</td>\n",
       "      <td>28500</td>\n",
       "      <td>1525500</td>\n",
       "    </tr>\n",
       "  </tbody>\n",
       "</table>\n",
       "</div>"
      ],
      "text/plain": [
       "              EP      SP       WP  WP_fdw    WP_c   WP_o    Total\n",
       "Dec 2009  114300   82800   851200  196000  245700   5200  1053500\n",
       "Dec 2010  143300   98700   865200  201400  248000   6000  1113200\n",
       "Dec 2011  175400  113900   901000  206300  264400   7600  1197900\n",
       "Dec 2012  173800  142400   942800  209600  293300   9300  1268300\n",
       "Dec 2013  175100  160900   974400  214500  318900  11300  1321600\n",
       "Dec 2014  178900  170100   991300  222500  322700  15400  1355700\n",
       "Jun 2015  180800  173800   993900  227100  322400  19700  1368200\n",
       "Dec 2015  187900  178600   997100  231500  326000  23600  1387300\n",
       "Jun 2016  189600  179400  1009300  237100  326700  26300  1404700\n",
       "Dec 2016  192300  179700   992700  239700  315500  28300  1393000\n",
       "Jun 2017  189900  179400   975800  243000  296700  29800  1374900\n",
       "Dec 2017  187700  184400   965200  246800  284900  30700  1368000\n",
       "Dec 2018  185800  195500   972600  253800  280500  32100  1386000\n",
       "Dec 2019  193700  200000   999000  261800  370100  34700  1427400\n",
       "Dec 2020  177100  174000   848200  247400  311100  32200  1231500\n",
       "Dec 2021  161700  161800   849700  246300  318500  27200  1200400\n",
       "Dec 2022  187300  177900  1033500  268500  415000  25400  1424200\n",
       "Dec 2023  205400  178500  1113000  286300  441100  28500  1525500"
      ]
     },
     "execution_count": 23,
     "metadata": {},
     "output_type": "execute_result"
    }
   ],
   "source": [
    "df2"
   ]
  },
  {
   "cell_type": "code",
   "execution_count": 27,
   "metadata": {},
   "outputs": [],
   "source": [
    "w = df2[\"EP\"] + df2[\"SP\"] + df2[\"WP\"] - df2[\"WP_fdw\"] - df2[\"WP_c\"] + df2[\"WP_o\"]"
   ]
  },
  {
   "cell_type": "code",
   "execution_count": 28,
   "metadata": {},
   "outputs": [
    {
     "data": {
      "text/plain": [
       "<Axes: >"
      ]
     },
     "execution_count": 28,
     "metadata": {},
     "output_type": "execute_result"
    },
    {
     "data": {
      "image/png": "[encoded data removed]",
      "text/plain": [
       "<Figure size 640x480 with 1 Axes>"
      ]
     },
     "metadata": {},
     "output_type": "display_data"
    }
   ],
   "source": [
    "w.plot()"
   ]
  },
  {
   "cell_type": "code",
   "execution_count": 29,
   "metadata": {},
   "outputs": [
    {
     "data": {
      "text/plain": [
       "<Axes: >"
      ]
     },
     "execution_count": 29,
     "metadata": {},
     "output_type": "execute_result"
    },
    {
     "data": {
      "image/png": "[encoded data removed]",
      "text/plain": [
       "<Figure size 640x480 with 1 Axes>"
      ]
     },
     "metadata": {},
     "output_type": "display_data"
    }
   ],
   "source": [
    "df2[\"Total\"].plot()"
   ]
  }
 ],
 "metadata": {
  "kernelspec": {
   "display_name": "Python 3",
   "language": "python",
   "name": "python3"
  },
  "language_info": {
   "codemirror_mode": {
    "name": "ipython",
    "version": 3
   },
   "file_extension": ".py",
   "mimetype": "text/x-python",
   "name": "python",
   "nbconvert_exporter": "python",
   "pygments_lexer": "ipython3",
   "version": "3.11.4"
  }
 },
 "nbformat": 4,
 "nbformat_minor": 2
}
